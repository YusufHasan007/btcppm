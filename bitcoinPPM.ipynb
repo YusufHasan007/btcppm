{
 "cells": [
  {
   "cell_type": "code",
   "execution_count": 67,
   "id": "8d55ebfd",
   "metadata": {},
   "outputs": [],
   "source": [
    "import seaborn as sns\n",
    "import numpy as np\n",
    "import pandas as pd\n",
    "import matplotlib.pyplot as plt\n",
    "%matplotlib inline"
   ]
  },
  {
   "cell_type": "code",
   "execution_count": 68,
   "id": "fbd3239e",
   "metadata": {},
   "outputs": [],
   "source": [
    "BTC = pd.read_csv('btcdata.csv')"
   ]
  },
  {
   "cell_type": "code",
   "execution_count": 69,
   "id": "55777271",
   "metadata": {},
   "outputs": [
    {
     "data": {
      "text/html": [
       "<div>\n",
       "<style scoped>\n",
       "    .dataframe tbody tr th:only-of-type {\n",
       "        vertical-align: middle;\n",
       "    }\n",
       "\n",
       "    .dataframe tbody tr th {\n",
       "        vertical-align: top;\n",
       "    }\n",
       "\n",
       "    .dataframe thead th {\n",
       "        text-align: right;\n",
       "    }\n",
       "</style>\n",
       "<table border=\"1\" class=\"dataframe\">\n",
       "  <thead>\n",
       "    <tr style=\"text-align: right;\">\n",
       "      <th></th>\n",
       "      <th>Date</th>\n",
       "      <th>Price</th>\n",
       "      <th>Open</th>\n",
       "      <th>High</th>\n",
       "      <th>Low</th>\n",
       "      <th>Vol.</th>\n",
       "      <th>Change %</th>\n",
       "    </tr>\n",
       "  </thead>\n",
       "  <tbody>\n",
       "    <tr>\n",
       "      <th>0</th>\n",
       "      <td>Nov 26, 2021</td>\n",
       "      <td>56,810.3</td>\n",
       "      <td>58,937.3</td>\n",
       "      <td>59,151.1</td>\n",
       "      <td>56,678.6</td>\n",
       "      <td>57.80K</td>\n",
       "      <td>-3.61%</td>\n",
       "    </tr>\n",
       "    <tr>\n",
       "      <th>1</th>\n",
       "      <td>Nov 25, 2021</td>\n",
       "      <td>58,935.1</td>\n",
       "      <td>57,167.1</td>\n",
       "      <td>59,387.3</td>\n",
       "      <td>57,029.8</td>\n",
       "      <td>56.79K</td>\n",
       "      <td>3.08%</td>\n",
       "    </tr>\n",
       "    <tr>\n",
       "      <th>2</th>\n",
       "      <td>Nov 24, 2021</td>\n",
       "      <td>57,171.7</td>\n",
       "      <td>57,559.4</td>\n",
       "      <td>57,697.4</td>\n",
       "      <td>55,910.6</td>\n",
       "      <td>56.68K</td>\n",
       "      <td>-0.70%</td>\n",
       "    </tr>\n",
       "    <tr>\n",
       "      <th>3</th>\n",
       "      <td>Nov 23, 2021</td>\n",
       "      <td>57,573.2</td>\n",
       "      <td>56,304.8</td>\n",
       "      <td>57,855.1</td>\n",
       "      <td>55,542.5</td>\n",
       "      <td>72.48K</td>\n",
       "      <td>2.25%</td>\n",
       "    </tr>\n",
       "    <tr>\n",
       "      <th>4</th>\n",
       "      <td>Nov 22, 2021</td>\n",
       "      <td>56,308.8</td>\n",
       "      <td>58,719.7</td>\n",
       "      <td>59,288.3</td>\n",
       "      <td>55,656.8</td>\n",
       "      <td>76.45K</td>\n",
       "      <td>-4.10%</td>\n",
       "    </tr>\n",
       "  </tbody>\n",
       "</table>\n",
       "</div>"
      ],
      "text/plain": [
       "           Date     Price      Open      High       Low    Vol. Change %\n",
       "0  Nov 26, 2021  56,810.3  58,937.3  59,151.1  56,678.6  57.80K   -3.61%\n",
       "1  Nov 25, 2021  58,935.1  57,167.1  59,387.3  57,029.8  56.79K    3.08%\n",
       "2  Nov 24, 2021  57,171.7  57,559.4  57,697.4  55,910.6  56.68K   -0.70%\n",
       "3  Nov 23, 2021  57,573.2  56,304.8  57,855.1  55,542.5  72.48K    2.25%\n",
       "4  Nov 22, 2021  56,308.8  58,719.7  59,288.3  55,656.8  76.45K   -4.10%"
      ]
     },
     "execution_count": 69,
     "metadata": {},
     "output_type": "execute_result"
    }
   ],
   "source": [
    "BTC.head()"
   ]
  },
  {
   "cell_type": "code",
   "execution_count": 70,
   "id": "e30756bd",
   "metadata": {},
   "outputs": [
    {
     "data": {
      "text/html": [
       "<div>\n",
       "<style scoped>\n",
       "    .dataframe tbody tr th:only-of-type {\n",
       "        vertical-align: middle;\n",
       "    }\n",
       "\n",
       "    .dataframe tbody tr th {\n",
       "        vertical-align: top;\n",
       "    }\n",
       "\n",
       "    .dataframe thead th {\n",
       "        text-align: right;\n",
       "    }\n",
       "</style>\n",
       "<table border=\"1\" class=\"dataframe\">\n",
       "  <thead>\n",
       "    <tr style=\"text-align: right;\">\n",
       "      <th></th>\n",
       "      <th>Date</th>\n",
       "      <th>Price</th>\n",
       "      <th>Open</th>\n",
       "      <th>High</th>\n",
       "      <th>Low</th>\n",
       "      <th>Vol.</th>\n",
       "      <th>Change %</th>\n",
       "    </tr>\n",
       "  </thead>\n",
       "  <tbody>\n",
       "    <tr>\n",
       "      <th>691</th>\n",
       "      <td>Jan 05, 2020</td>\n",
       "      <td>7,372.5</td>\n",
       "      <td>7,376.8</td>\n",
       "      <td>7,501.0</td>\n",
       "      <td>7,345.6</td>\n",
       "      <td>628.14K</td>\n",
       "      <td>-0.06%</td>\n",
       "    </tr>\n",
       "    <tr>\n",
       "      <th>692</th>\n",
       "      <td>Jan 04, 2020</td>\n",
       "      <td>7,376.8</td>\n",
       "      <td>7,345.1</td>\n",
       "      <td>7,433.1</td>\n",
       "      <td>7,291.4</td>\n",
       "      <td>523.91K</td>\n",
       "      <td>0.46%</td>\n",
       "    </tr>\n",
       "    <tr>\n",
       "      <th>693</th>\n",
       "      <td>Jan 03, 2020</td>\n",
       "      <td>7,343.1</td>\n",
       "      <td>6,967.1</td>\n",
       "      <td>7,402.9</td>\n",
       "      <td>6,884.1</td>\n",
       "      <td>936.29K</td>\n",
       "      <td>5.40%</td>\n",
       "    </tr>\n",
       "    <tr>\n",
       "      <th>694</th>\n",
       "      <td>Jan 02, 2020</td>\n",
       "      <td>6,967.0</td>\n",
       "      <td>7,199.7</td>\n",
       "      <td>7,209.6</td>\n",
       "      <td>6,901.4</td>\n",
       "      <td>632.78K</td>\n",
       "      <td>-3.23%</td>\n",
       "    </tr>\n",
       "    <tr>\n",
       "      <th>695</th>\n",
       "      <td>Jan 01, 2020</td>\n",
       "      <td>7,199.8</td>\n",
       "      <td>7,196.4</td>\n",
       "      <td>7,259.4</td>\n",
       "      <td>7,180.0</td>\n",
       "      <td>420.28K</td>\n",
       "      <td>0.05%</td>\n",
       "    </tr>\n",
       "  </tbody>\n",
       "</table>\n",
       "</div>"
      ],
      "text/plain": [
       "             Date    Price     Open     High      Low     Vol. Change %\n",
       "691  Jan 05, 2020  7,372.5  7,376.8  7,501.0  7,345.6  628.14K   -0.06%\n",
       "692  Jan 04, 2020  7,376.8  7,345.1  7,433.1  7,291.4  523.91K    0.46%\n",
       "693  Jan 03, 2020  7,343.1  6,967.1  7,402.9  6,884.1  936.29K    5.40%\n",
       "694  Jan 02, 2020  6,967.0  7,199.7  7,209.6  6,901.4  632.78K   -3.23%\n",
       "695  Jan 01, 2020  7,199.8  7,196.4  7,259.4  7,180.0  420.28K    0.05%"
      ]
     },
     "execution_count": 70,
     "metadata": {},
     "output_type": "execute_result"
    }
   ],
   "source": [
    "BTC.tail()"
   ]
  },
  {
   "cell_type": "code",
   "execution_count": 71,
   "id": "722dbea5",
   "metadata": {},
   "outputs": [],
   "source": [
    "BTC['Price'] = BTC['Price'].str.replace(',', '')\n",
    "BTC['Open'] = BTC['Open'].str.replace(',', '')\n",
    "BTC['High'] = BTC['High'].str.replace(',', '')\n",
    "BTC['Low'] = BTC['Low'].str.replace(',', '')\n",
    "BTC['Vol.'] = BTC['Vol.'].str.replace('.', '')\n",
    "BTC['Vol.'] = BTC['Vol.'].str.replace('K', '000')\n",
    "BTC['Vol.'] = BTC['Vol.'].str.replace('M', '000000')\n",
    "BTC['Change %'] = BTC['Change %'].str.replace('%', '')"
   ]
  },
  {
   "cell_type": "code",
   "execution_count": 72,
   "id": "570e58e8",
   "metadata": {},
   "outputs": [
    {
     "data": {
      "text/plain": [
       "Index(['Date', 'Price', 'Open', 'High', 'Low', 'Vol.', 'Change %'], dtype='object')"
      ]
     },
     "execution_count": 72,
     "metadata": {},
     "output_type": "execute_result"
    }
   ],
   "source": [
    "BTC.columns"
   ]
  },
  {
   "cell_type": "code",
   "execution_count": 73,
   "id": "75f8f1aa",
   "metadata": {},
   "outputs": [],
   "source": [
    "BTC.drop('Date',axis=1,inplace=True)"
   ]
  },
  {
   "cell_type": "code",
   "execution_count": 74,
   "id": "4cff9849",
   "metadata": {},
   "outputs": [],
   "source": [
    "X = BTC[['Open', 'High', 'Low', 'Vol.', 'Change %']]\n",
    "y = BTC['Price']"
   ]
  },
  {
   "cell_type": "code",
   "execution_count": 75,
   "id": "f17ffe1d",
   "metadata": {},
   "outputs": [],
   "source": [
    "from sklearn.model_selection import train_test_split"
   ]
  },
  {
   "cell_type": "code",
   "execution_count": 76,
   "id": "40454ceb",
   "metadata": {},
   "outputs": [],
   "source": [
    " X_train, X_test, y_train, y_test = train_test_split(X, y, test_size=0.4, random_state=101)"
   ]
  },
  {
   "cell_type": "code",
   "execution_count": 77,
   "id": "aa0f86da",
   "metadata": {},
   "outputs": [],
   "source": [
    "from sklearn.linear_model import LinearRegression"
   ]
  },
  {
   "cell_type": "code",
   "execution_count": 78,
   "id": "c50d8ae3",
   "metadata": {},
   "outputs": [],
   "source": [
    "lm= LinearRegression()"
   ]
  },
  {
   "cell_type": "code",
   "execution_count": 82,
   "id": "2aef579b",
   "metadata": {},
   "outputs": [
    {
     "data": {
      "text/plain": [
       "LinearRegression()"
      ]
     },
     "execution_count": 82,
     "metadata": {},
     "output_type": "execute_result"
    }
   ],
   "source": [
    "lm.fit(X_train, y_train)"
   ]
  },
  {
   "cell_type": "code",
   "execution_count": 84,
   "id": "cd5f1487",
   "metadata": {},
   "outputs": [
    {
     "name": "stdout",
     "output_type": "stream",
     "text": [
      "-32.67043023731094\n"
     ]
    }
   ],
   "source": [
    "#Intercept\n",
    "\n",
    "print(lm.intercept_)"
   ]
  },
  {
   "cell_type": "code",
   "execution_count": 86,
   "id": "93e0c704",
   "metadata": {},
   "outputs": [
    {
     "data": {
      "text/html": [
       "<div>\n",
       "<style scoped>\n",
       "    .dataframe tbody tr th:only-of-type {\n",
       "        vertical-align: middle;\n",
       "    }\n",
       "\n",
       "    .dataframe tbody tr th {\n",
       "        vertical-align: top;\n",
       "    }\n",
       "\n",
       "    .dataframe thead th {\n",
       "        text-align: right;\n",
       "    }\n",
       "</style>\n",
       "<table border=\"1\" class=\"dataframe\">\n",
       "  <thead>\n",
       "    <tr style=\"text-align: right;\">\n",
       "      <th></th>\n",
       "      <th>Coefficients</th>\n",
       "    </tr>\n",
       "  </thead>\n",
       "  <tbody>\n",
       "    <tr>\n",
       "      <th>Open</th>\n",
       "      <td>-9.784005e-02</td>\n",
       "    </tr>\n",
       "    <tr>\n",
       "      <th>High</th>\n",
       "      <td>6.166162e-01</td>\n",
       "    </tr>\n",
       "    <tr>\n",
       "      <th>Low</th>\n",
       "      <td>4.799555e-01</td>\n",
       "    </tr>\n",
       "    <tr>\n",
       "      <th>Vol.</th>\n",
       "      <td>4.685599e-08</td>\n",
       "    </tr>\n",
       "    <tr>\n",
       "      <th>Change %</th>\n",
       "      <td>9.966562e+01</td>\n",
       "    </tr>\n",
       "  </tbody>\n",
       "</table>\n",
       "</div>"
      ],
      "text/plain": [
       "          Coefficients\n",
       "Open     -9.784005e-02\n",
       "High      6.166162e-01\n",
       "Low       4.799555e-01\n",
       "Vol.      4.685599e-08\n",
       "Change %  9.966562e+01"
      ]
     },
     "execution_count": 86,
     "metadata": {},
     "output_type": "execute_result"
    }
   ],
   "source": [
    "#Coeff\n",
    "coeff_df = pd.DataFrame(lm.coef_, X.columns, columns=['Coefficients'] )\n",
    "coeff_df"
   ]
  },
  {
   "cell_type": "code",
   "execution_count": 87,
   "id": "b5d5a5a3",
   "metadata": {},
   "outputs": [],
   "source": [
    "predictions = lm.predict(X_test)"
   ]
  },
  {
   "cell_type": "code",
   "execution_count": 88,
   "id": "c10cee56",
   "metadata": {},
   "outputs": [
    {
     "data": {
      "text/plain": [
       "<matplotlib.collections.PathCollection at 0x7f72e5da7390>"
      ]
     },
     "execution_count": 88,
     "metadata": {},
     "output_type": "execute_result"
    },
    {
     "data": {
      "image/png": "[encoded data removed]",
      "text/plain": [
       "<Figure size 432x288 with 1 Axes>"
      ]
     },
     "metadata": {
      "needs_background": "light"
     },
     "output_type": "display_data"
    }
   ],
   "source": [
    "plt.scatter(y_test,predictions)"
   ]
  },
  {
   "cell_type": "code",
   "execution_count": 90,
   "id": "3ed99758",
   "metadata": {},
   "outputs": [],
   "source": [
    "from sklearn import metrics"
   ]
  },
  {
   "cell_type": "code",
   "execution_count": 92,
   "id": "3d4b076d",
   "metadata": {},
   "outputs": [
    {
     "name": "stdout",
     "output_type": "stream",
     "text": [
      "MAE: 327.10250633041227\n",
      "MSE: 228106.5406666407\n",
      "RMSE: 477.6050048592882\n"
     ]
    }
   ],
   "source": [
    "print('MAE:' , metrics.mean_absolute_error(y_test, predictions))\n",
    "print('MSE:' , metrics.mean_squared_error(y_test, predictions))\n",
    "print('RMSE:' , np.sqrt(metrics.mean_squared_error(y_test, predictions)))"
   ]
  },
  {
   "cell_type": "code",
   "execution_count": null,
   "id": "2707a64b",
   "metadata": {},
   "outputs": [],
   "source": []
  }
 ],
 "metadata": {
  "kernelspec": {
   "display_name": "Python 3",
   "language": "python",
   "name": "python3"
  },
  "language_info": {
   "codemirror_mode": {
    "name": "ipython",
    "version": 3
   },
   "file_extension": ".py",
   "mimetype": "text/x-python",
   "name": "python",
   "nbconvert_exporter": "python",
   "pygments_lexer": "ipython3",
   "version": "3.6.13"
  }
 },
 "nbformat": 4,
 "nbformat_minor": 5
}
